{
 "cells": [
  {
   "cell_type": "code",
   "execution_count": 1,
   "metadata": {},
   "outputs": [
    {
     "name": "stdout",
     "output_type": "stream",
     "text": [
      "Collecting tqdm\n",
      "  Downloading tqdm-4.64.0-py2.py3-none-any.whl (78 kB)\n",
      "     -------------------------------------- 78.4/78.4 kB 725.6 kB/s eta 0:00:00\n",
      "Requirement already satisfied: colorama in d:\\projects\\cardgame\\env\\lib\\site-packages (from tqdm) (0.4.4)\n",
      "Installing collected packages: tqdm\n",
      "Successfully installed tqdm-4.64.0\n",
      "Note: you may need to restart the kernel to use updated packages.\n"
     ]
    }
   ],
   "source": [
    "%pip install tqdm"
   ]
  },
  {
   "cell_type": "code",
   "execution_count": 1,
   "metadata": {},
   "outputs": [
    {
     "name": "stdout",
     "output_type": "stream",
     "text": [
      "pygame 2.1.2 (SDL 2.0.18, Python 3.9.7)\n",
      "Hello from the pygame community. https://www.pygame.org/contribute.html\n"
     ]
    }
   ],
   "source": [
    "from card_game import CardGame, Player, Card\n",
    "import random\n",
    "\n",
    "player = 1"
   ]
  },
  {
   "cell_type": "code",
   "execution_count": 2,
   "metadata": {},
   "outputs": [],
   "source": [
    "class RandomPlayer(Player):\n",
    "    \"\"\"\n",
    "    Makes random moves (but according to the rules)\n",
    "    \"\"\"\n",
    "    def __init__(self):\n",
    "        global player\n",
    "        self.number = player\n",
    "        player += 1\n",
    "\n",
    "    def make_move(self, game_state: dict, was_previous_move_wrong: bool) -> Card:\n",
    "        if not game_state[\"discard\"]:\n",
    "            return random.choice(game_state[\"hand\"])\n",
    "        else:\n",
    "            options = list(filter(lambda card: card.suit == list(game_state[\"discard\"])[0].suit, game_state[\"hand\"]))\n",
    "            if len(options) > 0:\n",
    "                return random.choice(options)\n",
    "            else:\n",
    "                return random.choice(game_state[\"hand\"])\n",
    "\n",
    "    def get_name(self):\n",
    "        return f\"RandomPlayer{self.number}\"\n",
    "\n",
    "    def set_temp_reward(self, discarded_cards: dict, point_deltas: dict):\n",
    "        pass\n",
    "\n",
    "    def set_final_reward(self, points: dict):\n",
    "        pass\n"
   ]
  },
  {
   "cell_type": "code",
   "execution_count": 3,
   "metadata": {},
   "outputs": [
    {
     "name": "stdout",
     "output_type": "stream",
     "text": [
      "72 24\n"
     ]
    }
   ],
   "source": [
    "from agents import REINFORCEAgent\n",
    "game = CardGame(REINFORCEAgent(32, False, 1e-3, layers=[256, 128]), RandomPlayer(), RandomPlayer(), RandomPlayer(), full_deck=False, display=False)"
   ]
  },
  {
   "cell_type": "code",
   "execution_count": 4,
   "metadata": {},
   "outputs": [
    {
     "data": {
      "text/plain": [
       "REINFORCEAgent(\n",
       "  (qnet): Sequential(\n",
       "    (0): Sequential(\n",
       "      (0): Linear(in_features=72, out_features=256, bias=True)\n",
       "      (1): ReLU()\n",
       "    )\n",
       "    (1): Sequential(\n",
       "      (0): Linear(in_features=256, out_features=128, bias=True)\n",
       "      (1): ReLU()\n",
       "    )\n",
       "    (2): Sequential(\n",
       "      (0): Linear(in_features=128, out_features=24, bias=True)\n",
       "      (1): Identity()\n",
       "    )\n",
       "  )\n",
       ")"
      ]
     },
     "execution_count": 4,
     "metadata": {},
     "output_type": "execute_result"
    }
   ],
   "source": [
    "game.players[0]"
   ]
  },
  {
   "cell_type": "code",
   "execution_count": 5,
   "metadata": {},
   "outputs": [
    {
     "name": "stdout",
     "output_type": "stream",
     "text": [
      "72\n"
     ]
    },
    {
     "data": {
      "text/plain": [
       "{REINFORCEAgent(\n",
       "   (qnet): Sequential(\n",
       "     (0): Sequential(\n",
       "       (0): Linear(in_features=72, out_features=256, bias=True)\n",
       "       (1): ReLU()\n",
       "     )\n",
       "     (1): Sequential(\n",
       "       (0): Linear(in_features=256, out_features=128, bias=True)\n",
       "       (1): ReLU()\n",
       "     )\n",
       "     (2): Sequential(\n",
       "       (0): Linear(in_features=128, out_features=24, bias=True)\n",
       "       (1): Identity()\n",
       "     )\n",
       "   )\n",
       " ): 41,\n",
       " <__main__.RandomPlayer at 0x22275e404c0>: 41,\n",
       " <__main__.RandomPlayer at 0x22212e507c0>: 99,\n",
       " <__main__.RandomPlayer at 0x22212e50760>: 28}"
      ]
     },
     "execution_count": 5,
     "metadata": {},
     "output_type": "execute_result"
    }
   ],
   "source": [
    "game.start()"
   ]
  },
  {
   "cell_type": "code",
   "execution_count": null,
   "metadata": {},
   "outputs": [],
   "source": []
  },
  {
   "cell_type": "code",
   "execution_count": null,
   "metadata": {},
   "outputs": [],
   "source": []
  },
  {
   "cell_type": "code",
   "execution_count": null,
   "metadata": {},
   "outputs": [],
   "source": []
  }
 ],
 "metadata": {
  "interpreter": {
   "hash": "02d75608cbd8984127d1827acfd7c675f09390d7f448a4eb3dcb01dc7f83769d"
  },
  "kernelspec": {
   "display_name": "Python 3.9.7 ('env': venv)",
   "language": "python",
   "name": "python3"
  },
  "language_info": {
   "codemirror_mode": {
    "name": "ipython",
    "version": 3
   },
   "file_extension": ".py",
   "mimetype": "text/x-python",
   "name": "python",
   "nbconvert_exporter": "python",
   "pygments_lexer": "ipython3",
   "version": "3.9.7"
  },
  "orig_nbformat": 4
 },
 "nbformat": 4,
 "nbformat_minor": 2
}
